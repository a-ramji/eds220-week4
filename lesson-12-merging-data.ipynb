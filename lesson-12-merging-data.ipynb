{
 "cells": [
  {
   "cell_type": "markdown",
   "id": "a4631bf4-f57a-4450-b2dc-bc0d67ab41e4",
   "metadata": {},
   "source": [
    "# Merging Data\n"
   ]
  },
  {
   "cell_type": "markdown",
   "id": "79d55b46-1b35-4ef9-84f3-27627eb95c84",
   "metadata": {},
   "source": [
    "## GeoJSON\n",
    "\n",
    "\n",
    "- https://carmengg.github.io/eds-220-book/lectures/lesson-10-merge-data.html\n",
    "- data stored as attribute-value pairs\n",
    "- stored like dictionaries\n",
    "https://geojson.io/"
   ]
  },
  {
   "cell_type": "markdown",
   "id": "9cecef74-4916-430f-a1b4-8ab89be52376",
   "metadata": {},
   "source": [
    "- point\n",
    "- LineString\n",
    "- polygon\n",
    "- \n",
    "\n",
    "- shape files can only store one type of vector data (point, line, polygon)\n",
    "- geoJSON can store multiple\n",
    "\n"
   ]
  },
  {
   "cell_type": "markdown",
   "id": "66348752-6ec3-4b7d-865e-0384621cec2a",
   "metadata": {},
   "source": [
    "## Merging Data\n",
    "In this section we will learn how to join dataframes and will apply this to creating a choropleth map with geopandas.\n",
    "\n"
   ]
  },
  {
   "cell_type": "markdown",
   "id": "16688943-9a74-408b-b853-22e2c7c05089",
   "metadata": {},
   "source": [
    "## 12.1 Goal\n",
    "Our goal in this lesson will be to join two datasets, one with demographic information and another with country outlines, to create the following choropleth map showing the number of Arctic communities by country and their location in [Scandinavia](https://en.wikipedia.org/wiki/Scandinavia):\n",
    "![Scandinavia](https://carmengg.github.io/eds-220-book/images/arctic-comms.png)"
   ]
  },
  {
   "cell_type": "markdown",
   "id": "f165e287-ffdb-4317-9332-db1d20f4a223",
   "metadata": {},
   "source": [
    "# Joins\n",
    "\n",
    "- inner join: keeps matching/overlapping values\n",
    "- left join: keeps all rows from the left dataframe, if there's no match in right df, \"na\"\n",
    "- right join: keep right df (can just do left join and swap order)\n",
    "- full outer join: keep all rows from both,  missing values as \"na\"s\n"
   ]
  },
  {
   "cell_type": "code",
   "execution_count": null,
   "id": "1e09eeee-8a69-48d2-8cdb-59d08b78f25d",
   "metadata": {},
   "outputs": [],
   "source": []
  }
 ],
 "metadata": {
  "kernelspec": {
   "display_name": "Anaconda 3 (Base)",
   "language": "python",
   "name": "base"
  },
  "language_info": {
   "codemirror_mode": {
    "name": "ipython",
    "version": 3
   },
   "file_extension": ".py",
   "mimetype": "text/x-python",
   "name": "python",
   "nbconvert_exporter": "python",
   "pygments_lexer": "ipython3",
   "version": "3.9.13"
  }
 },
 "nbformat": 4,
 "nbformat_minor": 5
}
