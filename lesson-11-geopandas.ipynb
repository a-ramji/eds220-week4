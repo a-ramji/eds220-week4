{
 "cells": [
  {
   "cell_type": "markdown",
   "id": "496a4c57-27f2-4be0-8c89-c58ddfe0606e",
   "metadata": {
    "tags": []
   },
   "source": [
    "# Lesson 10 & 11 (from book), Vector Data, Geopandas\n"
   ]
  },
  {
   "cell_type": "markdown",
   "id": "5e3e71a0-5890-4dd1-8144-82af6bc6facb",
   "metadata": {},
   "source": [
    "## 10.1 Points, lines, and polygons\n",
    "\n",
    "Vector data represents speciifc features on the Earth’s surface. There are three types of vector data:\n",
    "\n",
    "Points: each point has a single x,y location. Examples of pointdata that can be represented as point vector data are sampling locations or animal sightings.\n",
    "\n",
    "Lines: a line is composed of at least two points that are connected. Roads and streams are commonly depicted as line vector data.\n",
    "\n",
    "Polygons: polygons are sets of three or more vertices that are connected and form a closed region. Political boundaries (outlines of countires, states, cities, etc) are examples of polygon vector data.\n",
    "\n",
    "\n",
    "\n",
    "\n",
    "In addition to the geospatial information stored, vector data can include attributes that describe each feature. For example, a vector dataset where each feature is a polygon representing the boundary of a state could have as attributes the population and are of the state.\n",
    "\n",
    "\n",
    "\n",
    "## 10.2 Shapefiles\n",
    "\n",
    "One of the most popular formats to store vector data is the shapefile data format. The shapefile format is developed and maintained by the Environmental Systems Research Institute (Esri).\n",
    "\n",
    "So far we’ve been working with data that comes stored in a single file, like a csv or txt file for tabular data. A shapefile is actually a collection of files that interact together to create a single data file. All the files that make up a shapefile need to have the same name (different extensions) and be in the same directory. For our shapefiles to work we need at least these three files:\n",
    "\n",
    "- .shp: shape format, this file has the geometries for all features.\n",
    "- .shx: shape index format, this file indexes the features\n",
    "- .dbf: attribute format, this file stores the attributes for features as a table\n",
    "Sometimes shapefiles will have additional files, including:\n",
    "\n",
    "- .prj: a file containing information about the projection and coordinate reference system\n",
    "- .sbn and .sbx: files that contian a spatial index of the features\n",
    "- .shp.xml: geospatial metadata in XML format.\n",
    "Check the Wikipedia page about shapefiles to see a more extensive list of files associated to shapefiles."
   ]
  },
  {
   "cell_type": "markdown",
   "id": "7afe59ff-d12d-4215-8d11-cf79fa35ddb5",
   "metadata": {},
   "source": [
    "# Intro to geopandas\n",
    "\n",
    "GeoPandas is a Python library that extends the `pandas` library by adding support for geospatial data. In this lesson we will introduce the `geopandas` library to work with vector data. We will also make our first map.\n",
    "\n",
    "To begin with, let’s import `geopandas` with its standard abbreviation gpd:"
   ]
  },
  {
   "cell_type": "code",
   "execution_count": 1,
   "id": "ce194118-5725-4b1d-a2c3-7943de9d3bf4",
   "metadata": {
    "tags": []
   },
   "outputs": [],
   "source": [
    "# this is the library we will explore\n",
    "import geopandas as gpd\n",
    "\n",
    "# we will start using matplotlib for making maps\n",
    "import matplotlib.pyplot as plt"
   ]
  },
  {
   "cell_type": "markdown",
   "id": "7f2184a5-8b59-40e6-938d-16ca3798f3d6",
   "metadata": {},
   "source": [
    "In this lesson we will use simplified point data about wild pigs (Sus scrofa) sightings in California, USA from the Global Biodiversity Information Facility. (GBIF)\n",
    "\n",
    "We can read in a shapefile with geopandas by using the `gpd.read_file()` function."
   ]
  },
  {
   "cell_type": "code",
   "execution_count": 4,
   "id": "fed39f68-51de-412a-a13f-644fbb201c13",
   "metadata": {
    "tags": []
   },
   "outputs": [
    {
     "data": {
      "text/html": [
       "<div>\n",
       "<style scoped>\n",
       "    .dataframe tbody tr th:only-of-type {\n",
       "        vertical-align: middle;\n",
       "    }\n",
       "\n",
       "    .dataframe tbody tr th {\n",
       "        vertical-align: top;\n",
       "    }\n",
       "\n",
       "    .dataframe thead th {\n",
       "        text-align: right;\n",
       "    }\n",
       "</style>\n",
       "<table border=\"1\" class=\"dataframe\">\n",
       "  <thead>\n",
       "    <tr style=\"text-align: right;\">\n",
       "      <th></th>\n",
       "      <th>gbifID</th>\n",
       "      <th>species</th>\n",
       "      <th>state</th>\n",
       "      <th>individual</th>\n",
       "      <th>day</th>\n",
       "      <th>month</th>\n",
       "      <th>year</th>\n",
       "      <th>inst</th>\n",
       "      <th>collection</th>\n",
       "      <th>catalogNum</th>\n",
       "      <th>identified</th>\n",
       "      <th>geometry</th>\n",
       "    </tr>\n",
       "  </thead>\n",
       "  <tbody>\n",
       "    <tr>\n",
       "      <th>0</th>\n",
       "      <td>899953814</td>\n",
       "      <td>Sus scrofa</td>\n",
       "      <td>California</td>\n",
       "      <td>NaN</td>\n",
       "      <td>22.0</td>\n",
       "      <td>3.0</td>\n",
       "      <td>2014.0</td>\n",
       "      <td>iNaturalist</td>\n",
       "      <td>Observations</td>\n",
       "      <td>581956</td>\n",
       "      <td>edwardrooks</td>\n",
       "      <td>POINT (-121.53812 37.08846)</td>\n",
       "    </tr>\n",
       "    <tr>\n",
       "      <th>1</th>\n",
       "      <td>899951348</td>\n",
       "      <td>Sus scrofa</td>\n",
       "      <td>California</td>\n",
       "      <td>NaN</td>\n",
       "      <td>9.0</td>\n",
       "      <td>6.0</td>\n",
       "      <td>2007.0</td>\n",
       "      <td>iNaturalist</td>\n",
       "      <td>Observations</td>\n",
       "      <td>576047</td>\n",
       "      <td>Bruce Freeman</td>\n",
       "      <td>POINT (-120.54942 35.47354)</td>\n",
       "    </tr>\n",
       "    <tr>\n",
       "      <th>2</th>\n",
       "      <td>896560733</td>\n",
       "      <td>Sus scrofa</td>\n",
       "      <td>California</td>\n",
       "      <td>NaN</td>\n",
       "      <td>20.0</td>\n",
       "      <td>12.0</td>\n",
       "      <td>1937.0</td>\n",
       "      <td>MVZ</td>\n",
       "      <td>Hild</td>\n",
       "      <td>MVZ:Hild:195</td>\n",
       "      <td>Museum of Vertebrate Zoology, University of Ca...</td>\n",
       "      <td>POINT (-122.27063 37.87610)</td>\n",
       "    </tr>\n",
       "    <tr>\n",
       "      <th>3</th>\n",
       "      <td>896559958</td>\n",
       "      <td>Sus scrofa</td>\n",
       "      <td>California</td>\n",
       "      <td>NaN</td>\n",
       "      <td>1.0</td>\n",
       "      <td>4.0</td>\n",
       "      <td>1969.0</td>\n",
       "      <td>MVZ</td>\n",
       "      <td>Hild</td>\n",
       "      <td>MVZ:Hild:1213</td>\n",
       "      <td>Museum of Vertebrate Zoology, University of Ca...</td>\n",
       "      <td>POINT (-121.82297 38.44543)</td>\n",
       "    </tr>\n",
       "    <tr>\n",
       "      <th>4</th>\n",
       "      <td>896559722</td>\n",
       "      <td>Sus scrofa</td>\n",
       "      <td>California</td>\n",
       "      <td>NaN</td>\n",
       "      <td>1.0</td>\n",
       "      <td>1.0</td>\n",
       "      <td>1961.0</td>\n",
       "      <td>MVZ</td>\n",
       "      <td>Hild</td>\n",
       "      <td>MVZ:Hild:1004</td>\n",
       "      <td>Museum of Vertebrate Zoology, University of Ca...</td>\n",
       "      <td>POINT (-121.74559 38.54882)</td>\n",
       "    </tr>\n",
       "  </tbody>\n",
       "</table>\n",
       "</div>"
      ],
      "text/plain": [
       "      gbifID     species       state  individual   day  month    year  \\\n",
       "0  899953814  Sus scrofa  California         NaN  22.0    3.0  2014.0   \n",
       "1  899951348  Sus scrofa  California         NaN   9.0    6.0  2007.0   \n",
       "2  896560733  Sus scrofa  California         NaN  20.0   12.0  1937.0   \n",
       "3  896559958  Sus scrofa  California         NaN   1.0    4.0  1969.0   \n",
       "4  896559722  Sus scrofa  California         NaN   1.0    1.0  1961.0   \n",
       "\n",
       "          inst    collection     catalogNum  \\\n",
       "0  iNaturalist  Observations         581956   \n",
       "1  iNaturalist  Observations         576047   \n",
       "2          MVZ          Hild   MVZ:Hild:195   \n",
       "3          MVZ          Hild  MVZ:Hild:1213   \n",
       "4          MVZ          Hild  MVZ:Hild:1004   \n",
       "\n",
       "                                          identified  \\\n",
       "0                                        edwardrooks   \n",
       "1                                      Bruce Freeman   \n",
       "2  Museum of Vertebrate Zoology, University of Ca...   \n",
       "3  Museum of Vertebrate Zoology, University of Ca...   \n",
       "4  Museum of Vertebrate Zoology, University of Ca...   \n",
       "\n",
       "                      geometry  \n",
       "0  POINT (-121.53812 37.08846)  \n",
       "1  POINT (-120.54942 35.47354)  \n",
       "2  POINT (-122.27063 37.87610)  \n",
       "3  POINT (-121.82297 38.44543)  \n",
       "4  POINT (-121.74559 38.54882)  "
      ]
     },
     "execution_count": 4,
     "metadata": {},
     "output_type": "execute_result"
    }
   ],
   "source": [
    "# read in data using geopandas\n",
    "# specifying path, thru 'data' folder\n",
    "# reading .shp, the main shape file\n",
    "pigs = gpd.read_file('data/gbif_sus_scroga_california/gbif_sus_scroga_california.shp')\n",
    "\n",
    "# view first 5 rows\n",
    "pigs.head()"
   ]
  },
  {
   "cell_type": "markdown",
   "id": "ab736d0d-d7db-448e-9cc7-084f02c356ba",
   "metadata": {},
   "source": [
    "One shapefile = multiple files\n",
    "\n",
    "Although the parameter for `gpd.read_file(`) is only the .shp file, remember that we need to have at least the `.shx` and `.dbf` files in the same directory as the `.shp` to read in the data."
   ]
  },
  {
   "cell_type": "markdown",
   "id": "1725edae-bc55-40d0-8e41-ce7cff1dbc1f",
   "metadata": {
    "tags": []
   },
   "source": [
    "## 11.2 GeoSeries and GeoDataFrame\n",
    "The core data structure in GeoPandas is the `geopandas.GeoDataFrame`. We can think of it as a `pandas.DataFrame` with a dedicated geometry column that can perform spatial operations.\n",
    "\n",
    "The geometry column in a `gpd.GeoDataFrame` holds the geometry (point, polygon, etc) of each spatial feature. Columns in the `gpd.GeoDataFrame` with attributes about the features are `pandas.Series` like in a regular `pd.DataFrame`."
   ]
  },
  {
   "cell_type": "markdown",
   "id": "01cb148d-d1a3-416a-9cac-70223acfa317",
   "metadata": {},
   "source": [
    "**Example**\n",
    "\n",
    "First of all, notice that the leftmost column of `pigs` is a column named `geometry` whose values indicate points."
   ]
  },
  {
   "cell_type": "code",
   "execution_count": 5,
   "id": "cb430ab4-e311-43bf-8a02-3e39a6e6223d",
   "metadata": {
    "tags": []
   },
   "outputs": [
    {
     "data": {
      "text/html": [
       "<div>\n",
       "<style scoped>\n",
       "    .dataframe tbody tr th:only-of-type {\n",
       "        vertical-align: middle;\n",
       "    }\n",
       "\n",
       "    .dataframe tbody tr th {\n",
       "        vertical-align: top;\n",
       "    }\n",
       "\n",
       "    .dataframe thead th {\n",
       "        text-align: right;\n",
       "    }\n",
       "</style>\n",
       "<table border=\"1\" class=\"dataframe\">\n",
       "  <thead>\n",
       "    <tr style=\"text-align: right;\">\n",
       "      <th></th>\n",
       "      <th>gbifID</th>\n",
       "      <th>species</th>\n",
       "      <th>state</th>\n",
       "      <th>individual</th>\n",
       "      <th>day</th>\n",
       "      <th>month</th>\n",
       "      <th>year</th>\n",
       "      <th>inst</th>\n",
       "      <th>collection</th>\n",
       "      <th>catalogNum</th>\n",
       "      <th>identified</th>\n",
       "      <th>geometry</th>\n",
       "    </tr>\n",
       "  </thead>\n",
       "  <tbody>\n",
       "    <tr>\n",
       "      <th>0</th>\n",
       "      <td>899953814</td>\n",
       "      <td>Sus scrofa</td>\n",
       "      <td>California</td>\n",
       "      <td>NaN</td>\n",
       "      <td>22.0</td>\n",
       "      <td>3.0</td>\n",
       "      <td>2014.0</td>\n",
       "      <td>iNaturalist</td>\n",
       "      <td>Observations</td>\n",
       "      <td>581956</td>\n",
       "      <td>edwardrooks</td>\n",
       "      <td>POINT (-121.53812 37.08846)</td>\n",
       "    </tr>\n",
       "    <tr>\n",
       "      <th>1</th>\n",
       "      <td>899951348</td>\n",
       "      <td>Sus scrofa</td>\n",
       "      <td>California</td>\n",
       "      <td>NaN</td>\n",
       "      <td>9.0</td>\n",
       "      <td>6.0</td>\n",
       "      <td>2007.0</td>\n",
       "      <td>iNaturalist</td>\n",
       "      <td>Observations</td>\n",
       "      <td>576047</td>\n",
       "      <td>Bruce Freeman</td>\n",
       "      <td>POINT (-120.54942 35.47354)</td>\n",
       "    </tr>\n",
       "    <tr>\n",
       "      <th>2</th>\n",
       "      <td>896560733</td>\n",
       "      <td>Sus scrofa</td>\n",
       "      <td>California</td>\n",
       "      <td>NaN</td>\n",
       "      <td>20.0</td>\n",
       "      <td>12.0</td>\n",
       "      <td>1937.0</td>\n",
       "      <td>MVZ</td>\n",
       "      <td>Hild</td>\n",
       "      <td>MVZ:Hild:195</td>\n",
       "      <td>Museum of Vertebrate Zoology, University of Ca...</td>\n",
       "      <td>POINT (-122.27063 37.87610)</td>\n",
       "    </tr>\n",
       "  </tbody>\n",
       "</table>\n",
       "</div>"
      ],
      "text/plain": [
       "      gbifID     species       state  individual   day  month    year  \\\n",
       "0  899953814  Sus scrofa  California         NaN  22.0    3.0  2014.0   \n",
       "1  899951348  Sus scrofa  California         NaN   9.0    6.0  2007.0   \n",
       "2  896560733  Sus scrofa  California         NaN  20.0   12.0  1937.0   \n",
       "\n",
       "          inst    collection    catalogNum  \\\n",
       "0  iNaturalist  Observations        581956   \n",
       "1  iNaturalist  Observations        576047   \n",
       "2          MVZ          Hild  MVZ:Hild:195   \n",
       "\n",
       "                                          identified  \\\n",
       "0                                        edwardrooks   \n",
       "1                                      Bruce Freeman   \n",
       "2  Museum of Vertebrate Zoology, University of Ca...   \n",
       "\n",
       "                      geometry  \n",
       "0  POINT (-121.53812 37.08846)  \n",
       "1  POINT (-120.54942 35.47354)  \n",
       "2  POINT (-122.27063 37.87610)  "
      ]
     },
     "execution_count": 5,
     "metadata": {},
     "output_type": "execute_result"
    }
   ],
   "source": [
    "pigs.head(3)"
   ]
  },
  {
   "cell_type": "markdown",
   "id": "fc8ea1a1-309a-4f8e-97dd-fff1040b8db2",
   "metadata": {},
   "source": [
    "As usual, we can check the `type` of our objects using the type Python function:"
   ]
  },
  {
   "cell_type": "code",
   "execution_count": 7,
   "id": "17566808-30b4-4157-9545-167cb0683df8",
   "metadata": {
    "tags": []
   },
   "outputs": [
    {
     "name": "stdout",
     "output_type": "stream",
     "text": [
      "<class 'geopandas.geodataframe.GeoDataFrame'>\n"
     ]
    }
   ],
   "source": [
    "# type of the pigs dataframe\n",
    "print(type(pigs))"
   ]
  },
  {
   "cell_type": "code",
   "execution_count": 8,
   "id": "e5d81f1f-e4c6-4558-80b0-b27591de8c1f",
   "metadata": {
    "tags": []
   },
   "outputs": [
    {
     "name": "stdout",
     "output_type": "stream",
     "text": [
      "<class 'geopandas.geoseries.GeoSeries'>\n",
      "<class 'pandas.core.series.Series'>\n"
     ]
    }
   ],
   "source": [
    "# type of the geometry column\n",
    "print(type(pigs.geometry))\n",
    "\n",
    "# type of the gbifID column\n",
    "print(type(pigs.gbifID))"
   ]
  },
  {
   "cell_type": "markdown",
   "id": "f3c6e809-6097-48e8-8ba9-9dee11d9dc18",
   "metadata": {},
   "source": [
    "The new data type of the geometry column is also reflected when we look at the data types of the columns in the data frame:\n",
    "\n"
   ]
  },
  {
   "cell_type": "code",
   "execution_count": 9,
   "id": "f9e74cd6-4d4a-4e40-9d47-a2778a8425e4",
   "metadata": {
    "tags": []
   },
   "outputs": [
    {
     "data": {
      "text/plain": [
       "gbifID           int64\n",
       "species         object\n",
       "state           object\n",
       "individual     float64\n",
       "day            float64\n",
       "month          float64\n",
       "year           float64\n",
       "inst            object\n",
       "collection      object\n",
       "catalogNum      object\n",
       "identified      object\n",
       "geometry      geometry\n",
       "dtype: object"
      ]
     },
     "execution_count": 9,
     "metadata": {},
     "output_type": "execute_result"
    }
   ],
   "source": [
    "pigs.dtypes"
   ]
  },
  {
   "cell_type": "markdown",
   "id": "0242c486-fe69-4132-8f0f-20ea9fb11b3f",
   "metadata": {},
   "source": [
    "We can also check the type of each element in the geometry column using the `geom_type` attribute of a `gpd.GeoDataFrame`:\n",
    "\n"
   ]
  },
  {
   "cell_type": "code",
   "execution_count": 10,
   "id": "ad8c865d-7077-4383-b1b9-03307aa7519c",
   "metadata": {
    "tags": []
   },
   "outputs": [
    {
     "data": {
      "text/plain": [
       "0       Point\n",
       "1       Point\n",
       "2       Point\n",
       "3       Point\n",
       "4       Point\n",
       "        ...  \n",
       "1041    Point\n",
       "1042    Point\n",
       "1043    Point\n",
       "1044    Point\n",
       "1045    Point\n",
       "Length: 1046, dtype: object"
      ]
     },
     "execution_count": 10,
     "metadata": {},
     "output_type": "execute_result"
    }
   ],
   "source": [
    "pigs.geom_type"
   ]
  },
  {
   "cell_type": "markdown",
   "id": "f76ff0b1-4efb-4116-b68e-8448b6249916",
   "metadata": {},
   "source": [
    "## 11.3 Geometric information\n",
    "Two other important attributes of a `gpd.GeoDataFrame` are its coordinate reference system (CRS) and its extent.\n",
    "\n",
    "We can think of the **coordinate reference system (CRS)** as the instructions to locate each feature in our dataframe on the surface of the Earth. \n",
    "\n",
    "We can access the CRS of a `gpd.GeoDataFrame` using the `crs` attribute:"
   ]
  },
  {
   "cell_type": "code",
   "execution_count": 11,
   "id": "bc01d2c9-f6d4-4ee9-a83d-faf00f2c11f0",
   "metadata": {
    "tags": []
   },
   "outputs": [
    {
     "data": {
      "text/plain": [
       "<Geographic 2D CRS: EPSG:4326>\n",
       "Name: WGS 84\n",
       "Axis Info [ellipsoidal]:\n",
       "- Lat[north]: Geodetic latitude (degree)\n",
       "- Lon[east]: Geodetic longitude (degree)\n",
       "Area of Use:\n",
       "- name: World\n",
       "- bounds: (-180.0, -90.0, 180.0, 90.0)\n",
       "Datum: World Geodetic System 1984\n",
       "- Ellipsoid: WGS 84\n",
       "- Prime Meridian: Greenwich"
      ]
     },
     "execution_count": 11,
     "metadata": {},
     "output_type": "execute_result"
    }
   ],
   "source": [
    "# access the CRS of the GeoDataFrame\n",
    "pigs.crs"
   ]
  },
  {
   "cell_type": "markdown",
   "id": "7a83ad3f-7ca9-4579-9651-f232c04e1dad",
   "metadata": {},
   "source": [
    "The **extent** of the geo-dataframe is the **bounding box** covering all the features in our geo-dataframe. This is formed by finding the points that are furthest west, east, south and north.\n",
    "\n",
    "- bounding box for all features, no matter if they are points, lines, or polygons\n",
    "![NEON spatial extent of different vector data](https://carmengg.github.io/eds-220-book/images/lesson-8-geopandas/spatial-extent.png)"
   ]
  },
  {
   "cell_type": "markdown",
   "id": "5d35a809-4cd8-4d73-b16b-33f284ab99fd",
   "metadata": {},
   "source": [
    "We access the extent of a `gpd.GeoDataFrame` using the `total_bounds` attribute:"
   ]
  },
  {
   "cell_type": "code",
   "execution_count": 12,
   "id": "df852b39-d474-4642-9267-b8443d626343",
   "metadata": {
    "tags": []
   },
   "outputs": [
    {
     "data": {
      "text/plain": [
       "array([-124.29448 ,   32.593433, -115.4356  ,   40.934296])"
      ]
     },
     "execution_count": 12,
     "metadata": {},
     "output_type": "execute_result"
    }
   ],
   "source": [
    "pigs.total_bounds"
   ]
  },
  {
   "cell_type": "markdown",
   "id": "c940763e-609e-463c-b191-5c2bf26db18f",
   "metadata": {},
   "source": [
    "- the output is an array of ([xmin, ymin, xmax, ymax])\n",
    "- [total_bounds documentation](https://geopandas.org/en/stable/docs/reference/api/geopandas.GeoSeries.total_bounds.html)"
   ]
  },
  {
   "cell_type": "markdown",
   "id": "4fdf6c0c-0a6b-419a-8c7e-17ba0ac6c099",
   "metadata": {},
   "source": [
    "## 11.4 Data wrangling\n",
    "GeoPandas is conveniently built on top of `pandas`, so we may use everything we have learned about data selection, wrangling, and modification for a `pd.DataFrame`.\n",
    "\n",
    "**Example**\n",
    "\n",
    "Suppose we only want to use recent data for wild pig observations. A quick check shows that this dataframe has data since 1818:"
   ]
  },
  {
   "cell_type": "code",
   "execution_count": 16,
   "id": "f456f05a-0e5b-432d-bed7-6431ffa191c6",
   "metadata": {
    "tags": []
   },
   "outputs": [
    {
     "data": {
      "text/plain": [
       "1818.0     31\n",
       "1910.0      1\n",
       "1925.0      1\n",
       "1927.0      4\n",
       "1929.0      3\n",
       "         ... \n",
       "2019.0    101\n",
       "2020.0    159\n",
       "2021.0    164\n",
       "2022.0    185\n",
       "2023.0     98\n",
       "Name: year, Length: 61, dtype: int64"
      ]
     },
     "execution_count": 16,
     "metadata": {},
     "output_type": "execute_result"
    }
   ],
   "source": [
    "# use sort_index() method to order the index\n",
    "pigs.year.value_counts().sort_index() # descending = true is default"
   ]
  },
  {
   "cell_type": "markdown",
   "id": "d9883d7b-8833-4118-a605-bb24208115f9",
   "metadata": {},
   "source": [
    "We can use our usual data selection to get data from 2020 onwards:\n",
    "\n"
   ]
  },
  {
   "cell_type": "code",
   "execution_count": 19,
   "id": "1a808eb2-c565-423f-88fc-7318a92bd277",
   "metadata": {
    "tags": []
   },
   "outputs": [
    {
     "name": "stdout",
     "output_type": "stream",
     "text": [
      "1046\n"
     ]
    },
    {
     "data": {
      "text/plain": [
       "606"
      ]
     },
     "execution_count": 19,
     "metadata": {},
     "output_type": "execute_result"
    }
   ],
   "source": [
    "# select data from 2020 onwards\n",
    "pigs_recent = pigs[pigs.year>=2020]\n",
    "\n",
    "# print length of original data frame\n",
    "print(len(pigs))\n",
    "\n",
    "# check length of new dataframe\n",
    "len(pigs_recent)"
   ]
  },
  {
   "cell_type": "markdown",
   "id": "4e47ea52-3b7e-40f4-960a-93b2acda328b",
   "metadata": {},
   "source": [
    "## 11.5 Plotting\n",
    "\n",
    "### 11.5.1 plot()\n",
    "\n",
    "Similarly to a `pd.DataFrame`, a `gpd.GeoDataFrame` has a `plot()` method that we can call directly to create a quick view of our data. The geospatial information of the `gpd.GeoDataFrame` will be used to create the axes of the plot.\n",
    "\n",
    "**Example**\n",
    "\n",
    "This is a quick look at our recent pigs data:"
   ]
  },
  {
   "cell_type": "code",
   "execution_count": 20,
   "id": "453e66cc-2c51-4e45-a044-5467c1d27713",
   "metadata": {
    "tags": []
   },
   "outputs": [
    {
     "data": {
      "text/plain": [
       "<AxesSubplot:>"
      ]
     },
     "execution_count": 20,
     "metadata": {},
     "output_type": "execute_result"
    },
    {
     "data": {
      "image/png": "[encoded data removed]",
      "text/plain": [
       "<Figure size 640x480 with 1 Axes>"
      ]
     },
     "metadata": {},
     "output_type": "display_data"
    }
   ],
   "source": [
    "pigs_recent.plot()"
   ]
  },
  {
   "cell_type": "markdown",
   "id": "9ec8d5ba-af72-4d06-bcb8-73b010839f68",
   "metadata": {},
   "source": [
    "### 11.5.2 `matplotlib`’s `fig` and `ax`\n",
    "Going forward, we will often want to make more complex visualizations where we add different layers to a graph and customize it. To do this we will use the `matplotlib` Python library for creating visualizations. We can interact with `matplotlib` via its `pyplot` interface, which we imported at the top of the notebook as"
   ]
  },
  {
   "cell_type": "code",
   "execution_count": 21,
   "id": "68dbee4b-2719-4514-a77f-b5958f4031ec",
   "metadata": {
    "tags": []
   },
   "outputs": [],
   "source": [
    "# import matplotlib with standard abbreviation\n",
    "\n",
    "import matplotlib.pyplot as plt"
   ]
  },
  {
   "cell_type": "markdown",
   "id": "7bcaac9f-e97d-4e4b-8223-ee15c52f33c2",
   "metadata": {},
   "source": [
    "Matplotlib graphs the data in a **figure** which can have one or more axes. The axis is only the area specified by the x-y axis and what is plotted in it. To create a new blank figure:\n",
    "\n",
    "1. Initialize a new figure and axes by calling `pyplot`’s `subplots()` function, and\n",
    "2. show the graph using `plt.show()`:"
   ]
  },
  {
   "cell_type": "code",
   "execution_count": 22,
   "id": "e0f7b3e9-b5e6-41b1-b94a-9455030fab81",
   "metadata": {
    "tags": []
   },
   "outputs": [
    {
     "data": {
      "image/png": "[encoded data removed]",
      "text/plain": [
       "<Figure size 640x480 with 1 Axes>"
      ]
     },
     "metadata": {},
     "output_type": "display_data"
    }
   ],
   "source": [
    "# create a blank figure (fig) with an empty axis (ax)\n",
    "\n",
    "fig, ax = plt.subplots()\n",
    "\n",
    "# display figure\n",
    "plt.show()"
   ]
  },
  {
   "cell_type": "markdown",
   "id": "02795925-d87c-4c5c-a7e0-21d5e7162371",
   "metadata": {},
   "source": [
    "Notice we get a figure with a single empty axis. We can think of this step as setting a new blank canvas on which we will paint upon.\n",
    "\n",
    "#### Functions with multiple return values\n",
    "Notice that `plt.subplots()` is a function that returns two objects (has two outputs)."
   ]
  },
  {
   "cell_type": "markdown",
   "id": "3a438a83-c91e-442e-947d-597882efe10f",
   "metadata": {},
   "source": [
    "### 11.5.3 Adding a layer\n",
    "When using `matplotlib`, it can be useful to think of creating a plot as adding layers to an axis. The general syntax to plot a datafram `df` onto an axis is:\n",
    "\n",
    "```\n",
    "# create new figure and axis\n",
    "fig, ax = plt.subplots()\n",
    "\n",
    "# plot df on the ax axis\n",
    "df.plot(ax=ax, \n",
    "        ...)   # other arguments for plot function\n",
    "\n",
    "# display figure\n",
    "plt.show()\n",
    "```\n",
    "\n",
    "**Example**\n",
    "\n",
    "The first layer we want to add to our axis is the `pigs_recent` point data. We can plot our data using `matplotlib` like this:"
   ]
  },
  {
   "cell_type": "code",
   "execution_count": 26,
   "id": "ee434904-2760-4c56-ae36-b718cc629358",
   "metadata": {
    "tags": []
   },
   "outputs": [
    {
     "data": {
      "image/png": "[encoded data removed]",
      "text/plain": [
       "<Figure size 640x480 with 1 Axes>"
      ]
     },
     "metadata": {},
     "output_type": "display_data"
    }
   ],
   "source": [
    "# create new figure and axis\n",
    "fig, ax = plt.subplots()\n",
    "\n",
    "# add pigs point plot to our figure's axis\n",
    "pigs_recent.plot(ax = ax)\n",
    "\n",
    "# display figure\n",
    "plt.show()"
   ]
  },
  {
   "cell_type": "markdown",
   "id": "974b775d-cc58-4657-a0aa-5c554f286909",
   "metadata": {},
   "source": [
    "### 11.5.4 Customization\n",
    "Matplotlib allows for a lot of customization. Some of it can be done directly in the `plot()` method for the dataframe (like we’ve done when ploting data using `pandas`), while other is done by updating attributes of the axis `ax`. There is an image on the class website/book that shows some examples of elements in the axis that can be updated ![here](https://carmengg.github.io/eds-220-book/images/lesson-8-geopandas/anatomy.png)"
   ]
  },
  {
   "cell_type": "markdown",
   "id": "e2333f52-64ae-4432-bc49-a2acc8218210",
   "metadata": {},
   "source": [
    "**Example**\n",
    "\n",
    "Some basic customization for our pigs data could looke like this:"
   ]
  },
  {
   "cell_type": "code",
   "execution_count": 38,
   "id": "e6892146-a55d-472c-8650-c4ad8a50ab5d",
   "metadata": {
    "tags": []
   },
   "outputs": [
    {
     "data": {
      "image/png": "[encoded data removed]",
      "text/plain": [
       "<Figure size 640x480 with 1 Axes>"
      ]
     },
     "metadata": {},
     "output_type": "display_data"
    }
   ],
   "source": [
    "# initialize empty figure\n",
    "fig, ax = plt.subplots()\n",
    "\n",
    "# add data to axis\n",
    "# notice customization happens as arguments in plot()\n",
    "pigs_recent.plot(ax=ax,\n",
    "                 alpha=0.5,\n",
    "                 color=(0.33, 0.26, 0.22)\n",
    "                # color=(0.27, 0.20, 0.16)\n",
    "                 )\n",
    "\n",
    "# update axis \n",
    "# customization separate from the data plotting\n",
    "ax.set_title('Reported \"Sus scrofa\" sightings in CA (2020-2023)')\n",
    "ax.set_xlabel('Longitude')\n",
    "ax.set_ylabel('Latitude')\n",
    "\n",
    "# display figure\n",
    "plt.show()"
   ]
  },
  {
   "cell_type": "markdown",
   "id": "de2ff146-665a-4113-8ad7-7385fcd944dc",
   "metadata": {},
   "source": [
    "![CA wild pig](https://wildlife.ca.gov/portals/0/Images/Game/WildPig/wild-pig_AdobeStock_196733375.jpg)"
   ]
  },
  {
   "cell_type": "markdown",
   "id": "22024aa3-4ca4-4fae-96c2-0e76db05a550",
   "metadata": {},
   "source": [
    "## Exercises\n",
    "1. open the CA boundary shapefile and store it as ca_boundary variable. How many features does it have?\n",
    "2. add it to the pig sightings graph so that the CA boundary appears behind the points."
   ]
  },
  {
   "cell_type": "code",
   "execution_count": 42,
   "id": "1f58197e-c138-4b36-bb9f-c3a3845f5fb3",
   "metadata": {
    "tags": []
   },
   "outputs": [
    {
     "name": "stdout",
     "output_type": "stream",
     "text": [
      "  REGION DIVISION STATEFP   STATENS GEOID STUSPS        NAME LSAD  MTFCC  \\\n",
      "0      4        9      06  01779778    06     CA  California   00  G4000   \n",
      "\n",
      "  FUNCSTAT         ALAND       AWATER     INTPTLAT      INTPTLON  \\\n",
      "0        A  403501101370  20466718403  +37.1551773  -119.5434183   \n",
      "\n",
      "                                            geometry  \n",
      "0  MULTIPOLYGON (((-119.63473 33.26545, -119.6363...  \n"
     ]
    },
    {
     "data": {
      "text/plain": [
       "1"
      ]
     },
     "execution_count": 42,
     "metadata": {},
     "output_type": "execute_result"
    }
   ],
   "source": [
    "ca_boundary = gpd.read_file('data/ca-boundary/ca-boundary.shp')\n",
    "\n",
    "print(ca_boundary.head())\n",
    "\n",
    "len(ca_boundary)\n"
   ]
  },
  {
   "cell_type": "code",
   "execution_count": 53,
   "id": "029e38df-5fb5-4b1b-8a9b-8033df0de315",
   "metadata": {
    "tags": []
   },
   "outputs": [
    {
     "data": {
      "image/png": "[encoded data removed]",
      "text/plain": [
       "<Figure size 640x480 with 1 Axes>"
      ]
     },
     "metadata": {},
     "output_type": "display_data"
    }
   ],
   "source": [
    "# initialize empty figure\n",
    "fig, ax = plt.subplots()\n",
    "\n",
    "# add data to axis\n",
    "# notice customization happens as arguments in plot()\n",
    "\n",
    "ca_boundary.plot(ax=ax,\n",
    "                alpha=0.7,\n",
    "                color='none',\n",
    "                edgecolor=(0.49, 0.5, 0.14),\n",
    "                linewidth=2)\n",
    "\n",
    "pigs_recent.plot(ax=ax,\n",
    "                 alpha=0.55,\n",
    "                 color=(0.33, 0.26, 0.22),\n",
    "                 edgecolor='black'\n",
    "                # color=(0.27, 0.20, 0.16)\n",
    "                 )\n",
    "\n",
    "# update axis \n",
    "# customization separate from the data plotting\n",
    "ax.set_title('Reported \"Sus scrofa\" sightings in CA (2020-2023)')\n",
    "ax.set_xlabel('Longitude')\n",
    "ax.set_ylabel('Latitude')\n",
    "\n",
    "# display figure\n",
    "plt.show()"
   ]
  },
  {
   "cell_type": "markdown",
   "id": "1d2a41e9-5995-46f5-999e-f24917417b54",
   "metadata": {},
   "source": [
    "## 11.6 References\n",
    "GBIG data: GBIF.org (23 October 2023) GBIF Occurrence Download https://doi.org/10.15468/dl.qavhwp\n",
    "\n",
    "[Geopandas Documentation - Introduction to GeoPandas](https://geopandas.org/en/stable/getting_started/introduction.html)\n",
    "\n",
    "[Matplotlib Documentation - Basic Usage](https://matplotlib.org/3.5.3/tutorials/introductory/usage.html#sphx-glr-tutorials-introductory-usage-py)\n",
    "\n",
    " https://www.neonscience.org/resources/learning-hub/tutorials/intro-vector-data-r"
   ]
  },
  {
   "cell_type": "code",
   "execution_count": null,
   "id": "8d5d5d5f-48ec-42f6-963b-2c298cf58f4c",
   "metadata": {},
   "outputs": [],
   "source": []
  }
 ],
 "metadata": {
  "kernelspec": {
   "display_name": "Anaconda 3 (Base)",
   "language": "python",
   "name": "base"
  },
  "language_info": {
   "codemirror_mode": {
    "name": "ipython",
    "version": 3
   },
   "file_extension": ".py",
   "mimetype": "text/x-python",
   "name": "python",
   "nbconvert_exporter": "python",
   "pygments_lexer": "ipython3",
   "version": "3.9.13"
  }
 },
 "nbformat": 4,
 "nbformat_minor": 5
}
