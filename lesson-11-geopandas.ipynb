{
 "cells": [
  {
   "cell_type": "markdown",
   "id": "496a4c57-27f2-4be0-8c89-c58ddfe0606e",
   "metadata": {
    "tags": []
   },
   "source": [
    "# Lesson 10 & 11 (from book), Vector Data, Geopandas\n"
   ]
  },
  {
   "cell_type": "markdown",
   "id": "5e3e71a0-5890-4dd1-8144-82af6bc6facb",
   "metadata": {},
   "source": [
    "## 10.1 Points, lines, and polygons\n",
    "\n",
    "Vector data represents speciifc features on the Earth’s surface. There are three types of vector data:\n",
    "\n",
    "Points: each point has a single x,y location. Examples of pointdata that can be represented as point vector data are sampling locations or animal sightings.\n",
    "\n",
    "Lines: a line is composed of at least two points that are connected. Roads and streams are commonly depicted as line vector data.\n",
    "\n",
    "Polygons: polygons are sets of three or more vertices that are connected and form a closed region. Political boundaries (outlines of countires, states, cities, etc) are examples of polygon vector data.\n",
    "\n",
    "\n",
    "\n",
    "\n",
    "In addition to the geospatial information stored, vector data can include attributes that describe each feature. For example, a vector dataset where each feature is a polygon representing the boundary of a state could have as attributes the population and are of the state.\n",
    "\n",
    "\n",
    "\n",
    "## 10.2 Shapefiles\n",
    "\n",
    "One of the most popular formats to store vector data is the shapefile data format. The shapefile format is developed and maintained by the Environmental Systems Research Institute (Esri).\n",
    "\n",
    "So far we’ve been working with data that comes stored in a single file, like a csv or txt file for tabular data. A shapefile is actually a collection of files that interact together to create a single data file. All the files that make up a shapefile need to have the same name (different extensions) and be in the same directory. For our shapefiles to work we need at least these three files:\n",
    "\n",
    "- .shp: shape format, this file has the geometries for all features.\n",
    "- .shx: shape index format, this file indexes the features\n",
    "- .dbf: attribute format, this file stores the attributes for features as a table\n",
    "Sometimes shapefiles will have additional files, including:\n",
    "\n",
    "- .prj: a file containing information about the projection and coordinate reference system\n",
    "- .sbn and .sbx: files that contian a spatial index of the features\n",
    "- .shp.xml: geospatial metadata in XML format.\n",
    "Check the Wikipedia page about shapefiles to see a more extensive list of files associated to shapefiles."
   ]
  },
  {
   "cell_type": "markdown",
   "id": "7afe59ff-d12d-4215-8d11-cf79fa35ddb5",
   "metadata": {},
   "source": [
    "# Intro to geopandas\n",
    "\n",
    "GeoPandas is a Python library that extends the `pandas` library by adding support for geospatial data. In this lesson we will introduce the `geopandas` library to work with vector data. We will also make our first map.\n",
    "\n",
    "To begin with, let’s import `geopandas` with its standard abbreviation gpd:"
   ]
  },
  {
   "cell_type": "code",
   "execution_count": 1,
   "id": "ce194118-5725-4b1d-a2c3-7943de9d3bf4",
   "metadata": {
    "tags": []
   },
   "outputs": [],
   "source": [
    "# this is the library we will explore\n",
    "import geopandas as gpd\n",
    "\n",
    "# we will start using matplotlib for making maps\n",
    "import matplotlib.pyplot as plt"
   ]
  },
  {
   "cell_type": "markdown",
   "id": "7f2184a5-8b59-40e6-938d-16ca3798f3d6",
   "metadata": {},
   "source": [
    "In this lesson we will use simplified point data about wild pigs (Sus scrofa) sightings in California, USA from the Global Biodiversity Information Facility. (GBIF)\n",
    "\n",
    "We can read in a shapefile with geopandas by using the `gpd.read_file()` function."
   ]
  },
  {
   "cell_type": "code",
   "execution_count": 4,
   "id": "fed39f68-51de-412a-a13f-644fbb201c13",
   "metadata": {
    "tags": []
   },
   "outputs": [
    {
     "data": {
      "text/html": [
       "<div>\n",
       "<style scoped>\n",
       "    .dataframe tbody tr th:only-of-type {\n",
       "        vertical-align: middle;\n",
       "    }\n",
       "\n",
       "    .dataframe tbody tr th {\n",
       "        vertical-align: top;\n",
       "    }\n",
       "\n",
       "    .dataframe thead th {\n",
       "        text-align: right;\n",
       "    }\n",
       "</style>\n",
       "<table border=\"1\" class=\"dataframe\">\n",
       "  <thead>\n",
       "    <tr style=\"text-align: right;\">\n",
       "      <th></th>\n",
       "      <th>gbifID</th>\n",
       "      <th>species</th>\n",
       "      <th>state</th>\n",
       "      <th>individual</th>\n",
       "      <th>day</th>\n",
       "      <th>month</th>\n",
       "      <th>year</th>\n",
       "      <th>inst</th>\n",
       "      <th>collection</th>\n",
       "      <th>catalogNum</th>\n",
       "      <th>identified</th>\n",
       "      <th>geometry</th>\n",
       "    </tr>\n",
       "  </thead>\n",
       "  <tbody>\n",
       "    <tr>\n",
       "      <th>0</th>\n",
       "      <td>899953814</td>\n",
       "      <td>Sus scrofa</td>\n",
       "      <td>California</td>\n",
       "      <td>NaN</td>\n",
       "      <td>22.0</td>\n",
       "      <td>3.0</td>\n",
       "      <td>2014.0</td>\n",
       "      <td>iNaturalist</td>\n",
       "      <td>Observations</td>\n",
       "      <td>581956</td>\n",
       "      <td>edwardrooks</td>\n",
       "      <td>POINT (-121.53812 37.08846)</td>\n",
       "    </tr>\n",
       "    <tr>\n",
       "      <th>1</th>\n",
       "      <td>899951348</td>\n",
       "      <td>Sus scrofa</td>\n",
       "      <td>California</td>\n",
       "      <td>NaN</td>\n",
       "      <td>9.0</td>\n",
       "      <td>6.0</td>\n",
       "      <td>2007.0</td>\n",
       "      <td>iNaturalist</td>\n",
       "      <td>Observations</td>\n",
       "      <td>576047</td>\n",
       "      <td>Bruce Freeman</td>\n",
       "      <td>POINT (-120.54942 35.47354)</td>\n",
       "    </tr>\n",
       "    <tr>\n",
       "      <th>2</th>\n",
       "      <td>896560733</td>\n",
       "      <td>Sus scrofa</td>\n",
       "      <td>California</td>\n",
       "      <td>NaN</td>\n",
       "      <td>20.0</td>\n",
       "      <td>12.0</td>\n",
       "      <td>1937.0</td>\n",
       "      <td>MVZ</td>\n",
       "      <td>Hild</td>\n",
       "      <td>MVZ:Hild:195</td>\n",
       "      <td>Museum of Vertebrate Zoology, University of Ca...</td>\n",
       "      <td>POINT (-122.27063 37.87610)</td>\n",
       "    </tr>\n",
       "    <tr>\n",
       "      <th>3</th>\n",
       "      <td>896559958</td>\n",
       "      <td>Sus scrofa</td>\n",
       "      <td>California</td>\n",
       "      <td>NaN</td>\n",
       "      <td>1.0</td>\n",
       "      <td>4.0</td>\n",
       "      <td>1969.0</td>\n",
       "      <td>MVZ</td>\n",
       "      <td>Hild</td>\n",
       "      <td>MVZ:Hild:1213</td>\n",
       "      <td>Museum of Vertebrate Zoology, University of Ca...</td>\n",
       "      <td>POINT (-121.82297 38.44543)</td>\n",
       "    </tr>\n",
       "    <tr>\n",
       "      <th>4</th>\n",
       "      <td>896559722</td>\n",
       "      <td>Sus scrofa</td>\n",
       "      <td>California</td>\n",
       "      <td>NaN</td>\n",
       "      <td>1.0</td>\n",
       "      <td>1.0</td>\n",
       "      <td>1961.0</td>\n",
       "      <td>MVZ</td>\n",
       "      <td>Hild</td>\n",
       "      <td>MVZ:Hild:1004</td>\n",
       "      <td>Museum of Vertebrate Zoology, University of Ca...</td>\n",
       "      <td>POINT (-121.74559 38.54882)</td>\n",
       "    </tr>\n",
       "  </tbody>\n",
       "</table>\n",
       "</div>"
      ],
      "text/plain": [
       "      gbifID     species       state  individual   day  month    year  \\\n",
       "0  899953814  Sus scrofa  California         NaN  22.0    3.0  2014.0   \n",
       "1  899951348  Sus scrofa  California         NaN   9.0    6.0  2007.0   \n",
       "2  896560733  Sus scrofa  California         NaN  20.0   12.0  1937.0   \n",
       "3  896559958  Sus scrofa  California         NaN   1.0    4.0  1969.0   \n",
       "4  896559722  Sus scrofa  California         NaN   1.0    1.0  1961.0   \n",
       "\n",
       "          inst    collection     catalogNum  \\\n",
       "0  iNaturalist  Observations         581956   \n",
       "1  iNaturalist  Observations         576047   \n",
       "2          MVZ          Hild   MVZ:Hild:195   \n",
       "3          MVZ          Hild  MVZ:Hild:1213   \n",
       "4          MVZ          Hild  MVZ:Hild:1004   \n",
       "\n",
       "                                          identified  \\\n",
       "0                                        edwardrooks   \n",
       "1                                      Bruce Freeman   \n",
       "2  Museum of Vertebrate Zoology, University of Ca...   \n",
       "3  Museum of Vertebrate Zoology, University of Ca...   \n",
       "4  Museum of Vertebrate Zoology, University of Ca...   \n",
       "\n",
       "                      geometry  \n",
       "0  POINT (-121.53812 37.08846)  \n",
       "1  POINT (-120.54942 35.47354)  \n",
       "2  POINT (-122.27063 37.87610)  \n",
       "3  POINT (-121.82297 38.44543)  \n",
       "4  POINT (-121.74559 38.54882)  "
      ]
     },
     "execution_count": 4,
     "metadata": {},
     "output_type": "execute_result"
    }
   ],
   "source": [
    "# read in data using geopandas\n",
    "# specifying path, thru 'data' folder\n",
    "# reading .shp, the main shape file\n",
    "pigs = gpd.read_file('data/gbif_sus_scroga_california/gbif_sus_scroga_california.shp')\n",
    "\n",
    "# view first 5 rows\n",
    "pigs.head()"
   ]
  },
  {
   "cell_type": "markdown",
   "id": "ab736d0d-d7db-448e-9cc7-084f02c356ba",
   "metadata": {},
   "source": [
    "One shapefile = multiple files\n",
    "\n",
    "Although the parameter for `gpd.read_file(`) is only the .shp file, remember that we need to have at least the `.shx` and `.dbf` files in the same directory as the `.shp` to read in the data."
   ]
  },
  {
   "cell_type": "markdown",
   "id": "1725edae-bc55-40d0-8e41-ce7cff1dbc1f",
   "metadata": {
    "tags": []
   },
   "source": [
    "## 11.2 GeoSeries and GeoDataFrame\n",
    "The core data structure in GeoPandas is the `geopandas.GeoDataFrame`. We can think of it as a `pandas.DataFrame` with a dedicated geometry column that can perform spatial operations.\n",
    "\n",
    "The geometry column in a `gpd.GeoDataFrame` holds the geometry (point, polygon, etc) of each spatial feature. Columns in the `gpd.GeoDataFrame` with attributes about the features are `pandas.Series` like in a regular `pd.DataFrame`."
   ]
  },
  {
   "cell_type": "markdown",
   "id": "01cb148d-d1a3-416a-9cac-70223acfa317",
   "metadata": {},
   "source": [
    "Example\n",
    "\n",
    "First of all, notice that the leftmost column of `pigs` is a column named `geometry` whose values indicate points."
   ]
  }
 ],
 "metadata": {
  "kernelspec": {
   "display_name": "Anaconda 3 (Base)",
   "language": "python",
   "name": "base"
  },
  "language_info": {
   "codemirror_mode": {
    "name": "ipython",
    "version": 3
   },
   "file_extension": ".py",
   "mimetype": "text/x-python",
   "name": "python",
   "nbconvert_exporter": "python",
   "pygments_lexer": "ipython3",
   "version": "3.9.13"
  }
 },
 "nbformat": 4,
 "nbformat_minor": 5
}
