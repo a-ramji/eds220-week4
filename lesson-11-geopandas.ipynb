{
 "cells": [
  {
   "cell_type": "markdown",
   "id": "496a4c57-27f2-4be0-8c89-c58ddfe0606e",
   "metadata": {},
   "source": [
    "# Lesson 10 & 11 (from book), Vector Data, Geopandas\n"
   ]
  }
 ],
 "metadata": {
  "kernelspec": {
   "display_name": "Anaconda 3 (Base)",
   "language": "python",
   "name": "base"
  },
  "language_info": {
   "codemirror_mode": {
    "name": "ipython",
    "version": 3
   },
   "file_extension": ".py",
   "mimetype": "text/x-python",
   "name": "python",
   "nbconvert_exporter": "python",
   "pygments_lexer": "ipython3",
   "version": "3.9.13"
  }
 },
 "nbformat": 4,
 "nbformat_minor": 5
}
